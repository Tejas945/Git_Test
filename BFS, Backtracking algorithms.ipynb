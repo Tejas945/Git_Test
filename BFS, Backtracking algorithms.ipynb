{
 "cells": [
  {
   "cell_type": "markdown",
   "metadata": {},
   "source": [
    "# BFS"
   ]
  },
  {
   "cell_type": "code",
   "execution_count": 2,
   "metadata": {},
   "outputs": [],
   "source": [
    "graph = {\n",
    "    'A': ['B','C'],\n",
    "    'B': ['D','E'],\n",
    "    'C': ['A','F'],\n",
    "    'D': ['B'],\n",
    "    'E': ['E'],\n",
    "    'F': ['C']\n",
    "}\n",
    "\n",
    "visited = []\n",
    "queue = []\n",
    "def bfs(visited, graph, node):\n",
    "    visited.append(node)\n",
    "    queue.append(node)\n",
    "    \n",
    "    while queue:\n",
    "        s = queue.pop(0)\n",
    "        print(s, end = ' ')\n",
    "        \n",
    "        for neighbour in graph[s]:\n",
    "            if neighbour not in visited:\n",
    "                visited.append(neighbour)\n",
    "                queue.append(neighbour)\n",
    "                "
   ]
  },
  {
   "cell_type": "code",
   "execution_count": 4,
   "metadata": {},
   "outputs": [
    {
     "name": "stdout",
     "output_type": "stream",
     "text": [
      "A B C D E F "
     ]
    }
   ],
   "source": [
    "bfs(visited, graph, 'A')"
   ]
  },
  {
   "cell_type": "markdown",
   "metadata": {},
   "source": [
    "Steps:\n",
    "\n",
    "1. check starting node and add its neighbours to the queue\n",
    "2. mark the starting node as expolred\n",
    "3. get first node from queue and remove from queue\n",
    "4. check whether node is visited\n",
    "5. If not go through neighbours of the node\n",
    "6. add neighbour nodes to the queue\n",
    "7. Mark the node as visited"
   ]
  },
  {
   "cell_type": "markdown",
   "metadata": {},
   "source": [
    "# Backtracking"
   ]
  },
  {
   "cell_type": "code",
   "execution_count": null,
   "metadata": {},
   "outputs": [],
   "source": [
    "# Algorithm\n",
    "\n",
    "def backtracking(candidate):\n",
    "    if find_solution(candidate):\n",
    "        output(candidate)\n",
    "        return\n",
    "    for next_candidate in list_of_candidate:\n",
    "        \n",
    "        if is_valid(next_candidate):\n",
    "            place(next_candidate)\n",
    "            \n",
    "            backtrack(next_candidate)\n",
    "            \n",
    "            remove(next_candidate)\n"
   ]
  },
  {
   "cell_type": "code",
   "execution_count": 5,
   "metadata": {},
   "outputs": [
    {
     "name": "stdout",
     "output_type": "stream",
     "text": [
      "4370271056\n"
     ]
    }
   ],
   "source": [
    "class Computer:\n",
    "    pass\n",
    "\n",
    "c1 = Computer()\n",
    "print(id(c1))"
   ]
  },
  {
   "cell_type": "code",
   "execution_count": 7,
   "metadata": {},
   "outputs": [
    {
     "name": "stdout",
     "output_type": "stream",
     "text": [
      "1 : 1\n",
      "2 : 1\n",
      "3 : 2\n",
      "4 : 3\n",
      "5 : 5\n",
      "6 : 8\n",
      "7 : 13\n",
      "8 : 21\n",
      "9 : 34\n",
      "10 : 55\n",
      "11 : 89\n",
      "12 : 144\n",
      "13 : 233\n",
      "14 : 377\n",
      "15 : 610\n",
      "16 : 987\n",
      "17 : 1597\n",
      "18 : 2584\n",
      "19 : 4181\n",
      "20 : 6765\n",
      "21 : 10946\n",
      "22 : 17711\n",
      "23 : 28657\n",
      "24 : 46368\n",
      "25 : 75025\n",
      "26 : 121393\n",
      "27 : 196418\n",
      "28 : 317811\n",
      "29 : 514229\n",
      "30 : 832040\n",
      "31 : 1346269\n",
      "32 : 2178309\n",
      "33 : 3524578\n",
      "34 : 5702887\n",
      "35 : 9227465\n",
      "36 : 14930352\n",
      "37 : 24157817\n",
      "38 : 39088169\n",
      "39 : 63245986\n",
      "40 : 102334155\n",
      "41 : 165580141\n",
      "42 : 267914296\n",
      "43 : 433494437\n",
      "44 : 701408733\n",
      "45 : 1134903170\n",
      "46 : 1836311903\n",
      "47 : 2971215073\n",
      "48 : 4807526976\n",
      "49 : 7778742049\n",
      "50 : 12586269025\n",
      "51 : 20365011074\n",
      "52 : 32951280099\n",
      "53 : 53316291173\n",
      "54 : 86267571272\n",
      "55 : 139583862445\n",
      "56 : 225851433717\n",
      "57 : 365435296162\n",
      "58 : 591286729879\n",
      "59 : 956722026041\n",
      "60 : 1548008755920\n",
      "61 : 2504730781961\n",
      "62 : 4052739537881\n",
      "63 : 6557470319842\n",
      "64 : 10610209857723\n",
      "65 : 17167680177565\n",
      "66 : 27777890035288\n",
      "67 : 44945570212853\n",
      "68 : 72723460248141\n",
      "69 : 117669030460994\n",
      "70 : 190392490709135\n",
      "71 : 308061521170129\n",
      "72 : 498454011879264\n",
      "73 : 806515533049393\n",
      "74 : 1304969544928657\n",
      "75 : 2111485077978050\n",
      "76 : 3416454622906707\n",
      "77 : 5527939700884757\n",
      "78 : 8944394323791464\n",
      "79 : 14472334024676221\n",
      "80 : 23416728348467685\n",
      "81 : 37889062373143906\n",
      "82 : 61305790721611591\n",
      "83 : 99194853094755497\n",
      "84 : 160500643816367088\n",
      "85 : 259695496911122585\n",
      "86 : 420196140727489673\n",
      "87 : 679891637638612258\n",
      "88 : 1100087778366101931\n",
      "89 : 1779979416004714189\n",
      "90 : 2880067194370816120\n",
      "91 : 4660046610375530309\n",
      "92 : 7540113804746346429\n",
      "93 : 12200160415121876738\n",
      "94 : 19740274219868223167\n",
      "95 : 31940434634990099905\n",
      "96 : 51680708854858323072\n",
      "97 : 83621143489848422977\n",
      "98 : 135301852344706746049\n",
      "99 : 218922995834555169026\n",
      "100 : 354224848179261915075\n"
     ]
    }
   ],
   "source": [
    "fibonacci_cache = {}\n",
    "def fibonacci(n):\n",
    "    if n in fibonacci_cache:\n",
    "        return fibonacci_cache[n]\n",
    "    #Compute Fibonacci cache\n",
    "    if n ==1:\n",
    "        value = 1\n",
    "    elif n == 2:\n",
    "        value = 1\n",
    "    elif n>2:\n",
    "        value =  fibonacci(n-1)+fibonacci(n-2)\n",
    "    fibonacci_cache[n] = value\n",
    "    return value\n",
    "for n in range(1, 101):\n",
    "    print(n,\":\",fibonacci(n))"
   ]
  },
  {
   "cell_type": "code",
   "execution_count": null,
   "metadata": {},
   "outputs": [],
   "source": []
  }
 ],
 "metadata": {
  "kernelspec": {
   "display_name": "Python 3",
   "language": "python",
   "name": "python3"
  },
  "language_info": {
   "codemirror_mode": {
    "name": "ipython",
    "version": 3
   },
   "file_extension": ".py",
   "mimetype": "text/x-python",
   "name": "python",
   "nbconvert_exporter": "python",
   "pygments_lexer": "ipython3",
   "version": "3.7.4"
  }
 },
 "nbformat": 4,
 "nbformat_minor": 2
}
